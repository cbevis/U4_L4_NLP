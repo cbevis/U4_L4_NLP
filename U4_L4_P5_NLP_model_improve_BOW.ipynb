{
 "cells": [
  {
   "cell_type": "code",
   "execution_count": 2,
   "metadata": {},
   "outputs": [],
   "source": [
    "import numpy as np\n",
    "import pandas as pd\n",
    "import matplotlib.pyplot as plt\n",
    "import seaborn as sns\n",
    "import re\n",
    "\n",
    "import spacy\n",
    "from spacy.tokens import Token\n",
    "from spacy.lang.en.stop_words import STOP_WORDS\n",
    "from nltk.corpus import gutenberg, stopwords\n",
    "\n",
    "from sklearn.feature_extraction.text import TfidfVectorizer\n",
    "from sklearn.decomposition import TruncatedSVD\n",
    "from sklearn.pipeline import make_pipeline\n",
    "from sklearn.preprocessing import Normalizer\n",
    "from sklearn.preprocessing import StandardScaler\n",
    "from sklearn.feature_extraction.text import CountVectorizer\n",
    "\n",
    "from sklearn.model_selection import train_test_split\n",
    "from sklearn.ensemble import RandomForestClassifier\n",
    "from sklearn.linear_model import LogisticRegression\n",
    "\n",
    "from collections import Counter"
   ]
  },
  {
   "cell_type": "code",
   "execution_count": 3,
   "metadata": {},
   "outputs": [],
   "source": [
    "# Utility function for standard text cleaning\n",
    "def text_cleaner(text):\n",
    "    # Visual inspection identifies a form of punctuation spaCy does not\n",
    "    # recognize: the double dash '--'. \n",
    "    text = re.sub(r'--',' ',text)\n",
    "    # get rid of text between brackets\n",
    "    text = re.sub(\"[\\[].*?[\\]]\", \"\", text)\n",
    "    \n",
    "    # Get rid of extra whitespace\n",
    "    text = ' '.join(text.split())\n",
    "    return text"
   ]
  },
  {
   "cell_type": "code",
   "execution_count": 4,
   "metadata": {},
   "outputs": [],
   "source": [
    "milton = gutenberg.raw('milton-paradise.txt')\n",
    "chesterton = gutenberg.raw('chesterton-brown.txt')\n",
    "\n",
    "# Chapters are book specific\n",
    "# Need to clear chapters before runnign clean text\n",
    "chesterton = re.sub('[IVX][IVX]*\\. *The.*', '', chesterton)\n",
    "milton = re.sub(r'Book .*', '', milton)\n",
    "\n",
    "milton_clean = text_cleaner(milton)\n",
    "chesterton_clean = text_cleaner(chesterton)\n"
   ]
  },
  {
   "cell_type": "code",
   "execution_count": 5,
   "metadata": {},
   "outputs": [],
   "source": [
    "# Parse the cleaned novels. \n",
    "nlp = spacy.load('en')\n",
    "chesterton_doc = nlp(chesterton_clean)\n",
    "milton_doc = nlp(milton_clean)\n",
    "\n"
   ]
  },
  {
   "cell_type": "code",
   "execution_count": 7,
   "metadata": {},
   "outputs": [],
   "source": [
    "# Group into sentences\n",
    "chesterton_sents = [[sent, 'Chesterton'] for sent in chesterton_doc.sents]\n",
    "milton_sents = [[sent, 'Milton'] for sent in milton_doc.sents]\n",
    "\n",
    "# Combine the setnences from the two novels into one data frame\n",
    "sentences = pd.DataFrame(chesterton_sents + milton_sents)\n",
    "sentences.columns = ['text_sentences', 'author']\n",
    "sentences.head()\n",
    "\n",
    "both_sents = [' '.join([token.lemma_ for token in sent]) for sent in sentences['text_sentences']]\n",
    "\n",
    "both_pos = [' '.join([token.pos_ for token in sent]) for sent in sentences['text_sentences']]"
   ]
  },
  {
   "cell_type": "code",
   "execution_count": 8,
   "metadata": {},
   "outputs": [
    {
     "data": {
      "text/plain": [
       "['the consulting - room of dr orion hood , the eminent criminologist and specialist in certain moral disorder , lie along the sea - front at scarborough , in a series of very large and well - light french window , which show the north sea like one endless outer wall of blue - green marble .',\n",
       " 'in such a place the sea have something of the monotony of a blue - green dado : for the chamber -PRON- be rule throughout by a terrible tidiness not unlike the terrible tidiness of the sea .',\n",
       " \"-PRON- must not be suppose that dr hood 's apartment exclude luxury , or even poetry .\",\n",
       " 'these thing be there , in -PRON- place ; but one feel that -PRON- be never allow out of -PRON- place .',\n",
       " 'luxury be there : there stand upon a special table eight or ten box of the good cigar ; but -PRON- be build upon a plan so that the strong be always nearest the wall and the mildest nearest the window .']"
      ]
     },
     "execution_count": 8,
     "metadata": {},
     "output_type": "execute_result"
    }
   ],
   "source": [
    "both_sents[0:5]"
   ]
  },
  {
   "cell_type": "code",
   "execution_count": 9,
   "metadata": {},
   "outputs": [
    {
     "data": {
      "text/plain": [
       "['DET NOUN PUNCT NOUN ADP PROPN PROPN PROPN PUNCT DET ADJ NOUN CCONJ NOUN ADP ADJ ADJ NOUN PUNCT VERB ADP DET NOUN PUNCT NOUN ADP PROPN PUNCT ADP DET NOUN ADP ADV ADJ CCONJ ADV PUNCT VERB ADJ NOUN PUNCT ADJ VERB DET PROPN PROPN ADP NUM ADJ ADJ NOUN ADP ADJ PUNCT ADJ NOUN PUNCT',\n",
       " 'ADP ADJ DET NOUN DET NOUN VERB NOUN ADP DET NOUN ADP DET ADJ PUNCT ADJ NOUN PUNCT ADP DET NOUN PRON VERB VERB ADP ADP DET ADJ NOUN ADV ADP DET ADJ NOUN ADP DET NOUN PUNCT',\n",
       " 'PRON VERB ADV VERB VERB ADP PROPN PROPN PART NOUN VERB NOUN PUNCT CCONJ ADV NOUN PUNCT',\n",
       " 'DET NOUN VERB ADV PUNCT ADP ADJ NOUN PUNCT CCONJ NUM VERB ADP PRON VERB ADV VERB ADP ADP ADJ NOUN PUNCT',\n",
       " 'PROPN VERB ADV PUNCT ADV VERB ADP DET ADJ NOUN NUM CCONJ NUM NOUN ADP DET ADJ NOUN PUNCT CCONJ PRON VERB VERB ADP DET NOUN ADP ADP DET ADJ VERB ADV ADP DET NOUN CCONJ DET NOUN ADP DET NOUN PUNCT']"
      ]
     },
     "execution_count": 9,
     "metadata": {},
     "output_type": "execute_result"
    }
   ],
   "source": [
    "both_pos[0:5]"
   ]
  },
  {
   "cell_type": "code",
   "execution_count": 11,
   "metadata": {},
   "outputs": [
    {
     "name": "stdout",
     "output_type": "stream",
     "text": [
      "['able', 'abruptly', 'absence', 'absent', 'abyss', 'accept', 'accord', 'account', 'accuse', 'achieve', 'act', 'action', 'actor', 'adam', 'add', 'address', 'admiral', 'admiration', 'admire', 'admit']\n",
      "[[0 0 0 ... 0 0 0]\n",
      " [0 0 0 ... 0 0 0]\n",
      " [0 0 0 ... 0 0 0]\n",
      " ...\n",
      " [0 0 0 ... 0 0 0]\n",
      " [0 0 0 ... 0 0 0]\n",
      " [0 0 0 ... 0 0 0]]\n"
     ]
    }
   ],
   "source": [
    "vectorizer = CountVectorizer(max_features=2000, min_df=10, stop_words=STOP_WORDS)\n",
    "X = vectorizer.fit_transform(both_sents)\n",
    "print(vectorizer.get_feature_names()[0:20])\n",
    "print(X.toarray())  \n"
   ]
  },
  {
   "cell_type": "code",
   "execution_count": 12,
   "metadata": {},
   "outputs": [
    {
     "data": {
      "text/plain": [
       "<6465x1429 sparse matrix of type '<class 'numpy.int64'>'\n",
       "\twith 50961 stored elements in Compressed Sparse Row format>"
      ]
     },
     "execution_count": 12,
     "metadata": {},
     "output_type": "execute_result"
    }
   ],
   "source": [
    "X"
   ]
  },
  {
   "cell_type": "code",
   "execution_count": 13,
   "metadata": {},
   "outputs": [
    {
     "name": "stdout",
     "output_type": "stream",
     "text": [
      "['adj', 'adp', 'adv', 'cconj', 'det', 'intj', 'noun', 'num', 'part', 'pron', 'propn', 'punct', 'sym', 'verb']\n"
     ]
    }
   ],
   "source": [
    "vectorizer_pos = CountVectorizer(max_features=200)\n",
    "X_pos = vectorizer_pos.fit_transform(both_pos)\n",
    "print(vectorizer_pos.get_feature_names())\n"
   ]
  },
  {
   "cell_type": "markdown",
   "metadata": {},
   "source": [
    "# Random Forest Classifier"
   ]
  },
  {
   "cell_type": "code",
   "execution_count": 14,
   "metadata": {},
   "outputs": [
    {
     "name": "stdout",
     "output_type": "stream",
     "text": [
      "Training set score: 0.9824697086878061\n",
      "\n",
      "Test set score: 0.865815931941222\n"
     ]
    }
   ],
   "source": [
    "rfc = RandomForestClassifier(n_estimators=10)\n",
    "Y = sentences['author']\n",
    "\n",
    "X_train, X_test, y_train, y_test = train_test_split(X,\n",
    "                                                    Y, \n",
    "                                                    test_size=0.4, \n",
    "                                                    random_state=0)\n",
    "\n",
    "train = rfc.fit(X_train, y_train)\n",
    "\n",
    "print('Training set score:', rfc.score(X_train, y_train))\n",
    "print('\\nTest set score:', rfc.score(X_test, y_test))"
   ]
  },
  {
   "cell_type": "code",
   "execution_count": 15,
   "metadata": {},
   "outputs": [
    {
     "data": {
      "image/png": "[encoded data removed]",
      "text/plain": [
       "<Figure size 432x288 with 1 Axes>"
      ]
     },
     "metadata": {
      "needs_background": "light"
     },
     "output_type": "display_data"
    }
   ],
   "source": [
    "importances = rfc.feature_importances_\n",
    "std = np.std([tree.feature_importances_ for tree in rfc.estimators_],\n",
    "             axis=0)\n",
    "indices = np.argsort(importances)[:-20:-1]\n",
    "\n",
    "\n",
    "# Plot the feature importances of the forest\n",
    "plt.figure()\n",
    "plt.title(\"Feature importances\")\n",
    "plt.bar(range(len(indices)), importances[indices], color=\"r\", yerr=std[indices], align=\"center\")\n",
    "plt.xticks(range(len(indices)), np.array(vectorizer.get_feature_names())[indices],\n",
    "          rotation='vertical')\n",
    "plt.show()"
   ]
  },
  {
   "cell_type": "markdown",
   "metadata": {},
   "source": [
    "# Logistic Regression"
   ]
  },
  {
   "cell_type": "code",
   "execution_count": 16,
   "metadata": {},
   "outputs": [
    {
     "name": "stdout",
     "output_type": "stream",
     "text": [
      "(3879, 1429) (3879,)\n",
      "Training set score: 0.9641660221706625\n",
      "\n",
      "Test set score: 0.9164733178654292\n"
     ]
    }
   ],
   "source": [
    "lr = LogisticRegression(solver='liblinear')\n",
    "train = lr.fit(X_train, y_train)\n",
    "print(X_train.shape, y_train.shape)\n",
    "print('Training set score:', lr.score(X_train, y_train))\n",
    "print('\\nTest set score:', lr.score(X_test, y_test))"
   ]
  },
  {
   "cell_type": "markdown",
   "metadata": {},
   "source": [
    "# Include Punctuation"
   ]
  },
  {
   "cell_type": "code",
   "execution_count": 17,
   "metadata": {},
   "outputs": [],
   "source": [
    "df = pd.DataFrame(X.toarray(), columns=vectorizer.get_feature_names())\n",
    "df_pos = pd.DataFrame(X_pos.toarray(), columns=vectorizer_pos.get_feature_names())\n",
    "df = df.join(df_pos, lsuffix='_sent', rsuffix='_pos')\n",
    "df['author'] = Y"
   ]
  },
  {
   "cell_type": "code",
   "execution_count": 18,
   "metadata": {},
   "outputs": [
    {
     "name": "stdout",
     "output_type": "stream",
     "text": [
      "Training set score: 0.9899458623356535\n",
      "\n",
      "Test set score: 0.8747099767981439\n"
     ]
    }
   ],
   "source": [
    "X3 = df.drop('author', axis=1)\n",
    "X_train3, X_test3, y_train3, y_test3 = train_test_split(X3,\n",
    "                                                    Y, \n",
    "                                                    test_size=0.4, \n",
    "                                                    random_state=0)\n",
    "\n",
    "rfc = RandomForestClassifier(n_estimators=10)\n",
    "train = rfc.fit(X_train3, y_train3)\n",
    "\n",
    "print('Training set score:', rfc.score(X_train3, y_train3))\n",
    "print('\\nTest set score:', rfc.score(X_test3, y_test3))"
   ]
  },
  {
   "cell_type": "code",
   "execution_count": 19,
   "metadata": {},
   "outputs": [
    {
     "data": {
      "image/png": "[encoded data removed]",
      "text/plain": [
       "<Figure size 432x288 with 1 Axes>"
      ]
     },
     "metadata": {
      "needs_background": "light"
     },
     "output_type": "display_data"
    }
   ],
   "source": [
    "importances = rfc.feature_importances_\n",
    "std = np.std([tree.feature_importances_ for tree in rfc.estimators_],\n",
    "             axis=0)\n",
    "indices = np.argsort(importances)[:-20:-1]\n",
    "\n",
    "\n",
    "# Plot the feature importances of the forest\n",
    "plt.figure()\n",
    "plt.title(\"Feature importances\")\n",
    "plt.bar(range(len(indices)), importances[indices], color=\"r\", yerr=std[indices], align=\"center\")\n",
    "plt.xticks(range(len(indices)), df.columns[indices],\n",
    "          rotation='vertical')\n",
    "plt.show()"
   ]
  },
  {
   "cell_type": "code",
   "execution_count": 20,
   "metadata": {},
   "outputs": [
    {
     "name": "stdout",
     "output_type": "stream",
     "text": [
      "Training set score: 0.9677751997937613\n",
      "\n",
      "Test set score: 0.9238205723124516\n"
     ]
    }
   ],
   "source": [
    "lr = LogisticRegression(solver='liblinear')\n",
    "train = lr.fit(X_train3, y_train3)\n",
    "print('Training set score:', lr.score(X_train3, y_train3))\n",
    "print('\\nTest set score:', lr.score(X_test3, y_test3))"
   ]
  },
  {
   "cell_type": "markdown",
   "metadata": {},
   "source": [
    "# Try adding entities\n",
    "\n",
    "- didn't make much of a difference"
   ]
  },
  {
   "cell_type": "code",
   "execution_count": 26,
   "metadata": {},
   "outputs": [
    {
     "name": "stdout",
     "output_type": "stream",
     "text": [
      "PERSON Orion Hood\n",
      "LOC the North Sea\n",
      "PERSON Hood\n",
      "CARDINAL one\n",
      "PERSON Luxury\n",
      "CARDINAL eight\n",
      "CARDINAL ten\n",
      "CARDINAL three\n",
      "LANGUAGE English\n",
      "LANGUAGE English\n",
      "['the North Sea', 'the North Sea', 'Mediterranean', 'Europe', 'Paradise']\n",
      "{'the Arabian Nights', 'Paradise', 'Thinker Boulnois', 'Asiatic', 'Cannibal Islands', 'Atlantic', 'English Government', 'the moon', 'Greywood Usher', 'Vosges', 'the Temple Gardens', 'Malvoli', 'Pacific', 'Pacific Islands', 'the moon a', 'Captain', 'Europe', 'Elizabethan', 'Theseus and Hippolyta', 'earth', 'Park', 'the Pacific Islands', 'Mediterranean', 'the Convict Settlement', 'the Western Sun', 'South Sea', 'the Cannibal Islands', 'the North Sea', 'Haroun Alraschid'}\n",
      "{'Paradise', 'Sufficient', 'Earth Main', 'Encroaching Eve', 'Cape', 'the Earth Wheels', 'the Cape of Hope', 'Henceforth', 'Sea', 'East', 'the moon', 'Eden', 'Red-Sea', 'Earth', 'Holy', 'the east Darkness', 'Asia', 'Nile', 'Travelling east', 'India East', 'Active', 'Rhodope', 'the moon Globose', 'Argestes', 'Shot', 'Rocks', 'Europe', 'Middle', 'earth', 'Sin Surprise', 'the Son of God', 'Caught', 'Ophion', 'Turned', 'the Paradise of God Without', 'Proteus', 'Goodness', 'the moon Haste', 'South', 'Forth', 'Hurled', 'Woman', 'City', 'Surround', 'Impearls', 'Extort', 'Blest', 'Mountains', 'Fast', 'Euphrates', 'Isle', 'Purest', 'Abyss Heard', 'Jupiter', 'Turning', 'Ocean', 'mount Ida', 'Mightiest'}\n"
     ]
    }
   ],
   "source": [
    "# Try adding entities\n",
    "# Extract the first ten entities.\n",
    "entities = list(chesterton_doc.ents)[0:10]\n",
    "for entity in entities:\n",
    "    print(entity.label_, ' '.join(t.orth_ for t in entity))\n",
    "    \n",
    "# All of the uniqe entities spaCy thinks are locations.\n",
    "location = [entity.text for entity in list(chesterton_doc.ents) if entity.label_ == \"LOC\"]\n",
    "\n",
    "print(set(location))\n",
    "\n",
    "# All of the uniqe entities spaCy thinks are locations.\n",
    "location = [entity.text for entity in list(milton_doc.ents) if entity.label_ == \"LOC\"]\n",
    "print(set(location))"
   ]
  },
  {
   "cell_type": "code",
   "execution_count": 78,
   "metadata": {},
   "outputs": [],
   "source": [
    "# Need to remove punctuation\n",
    "table = str.maketrans(dict.fromkeys(string.punctuation))\n",
    "\n",
    "# This is a bit much for a list comprehension\n",
    "both_ents = [' '.join([''.join([ent.label_, ''.join(ent.text.translate(table).split())]) for ent in sent.ents]) for sent in sentences['text_sentences']]"
   ]
  },
  {
   "cell_type": "code",
   "execution_count": 79,
   "metadata": {},
   "outputs": [
    {
     "name": "stdout",
     "output_type": "stream",
     "text": [
      "['cardinal00021053', 'cardinalatleastthree', 'cardinalbetweentwo', 'cardinaleight', 'cardinalfive', 'cardinalfour', 'cardinalgabriel', 'cardinalhalf', 'cardinalhundred', 'cardinalhundreds', 'cardinalmillions', 'cardinalnine', 'cardinalone', 'cardinalonlyone', 'cardinalonlytwo', 'cardinalseven', 'cardinalsix', 'cardinalten', 'cardinaltenthousand', 'cardinaltenthousandthousand', 'cardinalthousands', 'cardinalthree', 'cardinaltwelve', 'cardinaltwenty', 'cardinaltwo', 'dateannual', 'datedaily', 'dateday', 'datedays', 'datedayspring', 'dateearlywinter', 'datefuturedays', 'datemanydays', 'datemay', 'datemeek', 'datemonths', 'datemorrow', 'datenow', 'dateoneday', 'datesaturday', 'dateseason', 'datesummer', 'datethatday', 'datetheday', 'datethedays', 'datethesixteenthcentury', 'datethisday', 'datetoday', 'datetomorrow', 'datetwodays', 'dateyear', 'dateyearly', 'dateyears', 'dateyesterday', 'eventchampion', 'eventthechampionarms', 'facangel', 'faccreatures', 'facmaker', 'facpendragonpark', 'facpendragontower', 'facpond', 'facthehotelsaintlouis', 'facworld', 'gpeadam', 'gpeambiguous', 'gpeamerica', 'gpeangelick', 'gpeaustralia', 'gpebabylon', 'gpeboulnois', 'gpebreathing', 'gpechaos', 'gpechicago', 'gpecornwall', 'gpecreated', 'gpedalroy', 'gpediurnal', 'gpedoric', 'gpeegypt', 'gpeelizabethan', 'gpeelysee', 'gpeengland', 'gpeethel', 'gpeevening', 'gpefalconroy', 'gpefanshaw', 'gpefar', 'gpeforbids', 'gpeforth', 'gpefrance', 'gpegaza', 'gpegermany', 'gpegreece', 'gpehedwig', 'gpeheiligwaldenstein', 'gpeheinrich', 'gpehereafter', 'gpeheroick', 'gpehirsch', 'gpehomeward', 'gpehongkong', 'gpehopeful', 'gpehosannas', 'gpehuddersfield', 'gpehull', 'gpehunting', 'gpehydaspes', 'gpehymen', 'gpeillustrates', 'gpeimaus', 'gpeimmediate', 'gpeimmense', 'gpeimmortal', 'gpeimmovable', 'gpeimperishable', 'gpeimpurpled', 'gpeind', 'gpeindia', 'gpeinnumerous', 'gpeinsatiate', 'gpeinsect', 'gpeinterpret', 'gpeinto', 'gpeinvested', 'gpeinvincible', 'gpeirradiance', 'gpeirreparable', 'gpeisaac', 'gpeisidore', 'gpeisles', 'gpeisrael', 'gpeitaly', 'gpejamaica', 'gpejavan', 'gpejerusalem', 'gpejordan', 'gpejove', 'gpejoyous', 'gpejustling', 'gpekc', 'gpeknowledge', 'gpelabouring', 'gpelaid', 'gpelapland', 'gpelaughest', 'gpelavinia', 'gpelebanon', 'gpeleviathan', 'gpelibecchio', 'gpelistens', 'gpeliverpool', 'gpelivid', 'gpeloaden', 'gpelondon', 'gpeloud', 'gpeludwig', 'gpemahanaim', 'gpemain', 'gpemalabar', 'gpemalta', 'gpemanchester', 'gpemanextracted', 'gpemarching', 'gpemarrying', 'gpemass', 'gpemecca', 'gpememphian', 'gpemenearth', 'gpemexico', 'gpeministring', 'gpemisleads', 'gpemistrustful', 'gpemonarchy', 'gpemorocco', 'gpemosco', 'gpemountamara', 'gpemountcarmel', 'gpemounthermon', 'gpemover', 'gpemunich', 'gpemyself', 'gpenewcourage', 'gpenewheaven', 'gpenewheavens', 'gpeniger', 'gpenighrivers', 'gpenisroch', 'gpenorthpoured', 'gpenorway', 'gpenumbered', 'gpeob', 'gpeobtain', 'gpeoechalia', 'gpeoman', 'gpeophir', 'gpeophiusa', 'gpeorphean', 'gpeoverbury', 'gpeoxford', 'gpeoxus', 'gpeoyet', 'gpepalestine', 'gpepandemonium', 'gpeparis', 'gpepelorus', 'gpependragonpark', 'gpeperiods', 'gpeperu', 'gpeph', 'gpepharphar', 'gpepines', 'gpepit', 'gpeplanter', 'gpeply', 'gpepontus', 'gpepooley', 'gpeportending', 'gpepowers', 'gpepraying', 'gpeproserpina', 'gpeprovidence', 'gpepunick', 'gpepunisher', 'gpepurge', 'gpepursue', 'gpepythian', 'gpequiloa', 'gperain', 'gpereckonst', 'gpereflected', 'gpereigns', 'gpereligious', 'gpereserving', 'gperetiring', 'gperidiculous', 'gperolling', 'gperome', 'gperough', 'gperound', 'gperumour', 'gpesadowa', 'gpesadtalkyet', 'gpesagacious', 'gpesamarchand', 'gpesamoed', 'gpesatst', 'gpesaturn', 'gpescepter', 'gpescotland', 'gpesea', 'gpeseafaring', 'gpeseawood', 'gpesechem', 'gpeseleucia', 'gpeseraph', 'gpeseraphim', 'gpeserapis', 'gpesevenfold', 'gpesevere', 'gpeshade', 'gpeshape', 'gpeshapes', 'gpesinai', 'gpesire', 'gpesnowdon', 'gpesodom', 'gpesofala', 'gpesojourned', 'gpesolid', 'gpesollicit', 'gpesooner', 'gpesouthwales', 'gpesovranpresence', 'gpespirits', 'gpesprings', 'gpesprung', 'gpestand', 'gpestates', 'gpestrand', 'gpesubverting', 'gpesufficient', 'gpesultan', 'gpesutton', 'gpetarsus', 'gpetasmania', 'gpetempest', 'gpetempter', 'gpeternate', 'gpethammuz', 'gpethebes', 'gpethebritishempire', 'gpethedailyreformer', 'gpethefrenchrepublic', 'gpethegermanempire', 'gpethenceforth', 'gpetheromanempire', 'gpethou', 'gpethoumightiest', 'gpethousand', 'gpethrascias', 'gpethrown', 'gpetidore', 'gpetitan', 'gpetitania', 'gpetobias', 'gpetobit', 'gpetodd', 'gpetodhunter', 'gpetook', 'gpetory', 'gpetransfix', 'gpetransgressed', 'gpetreading', 'gpetrichinopoli', 'gpetruce', 'gpetumult', 'gpeturchestan', 'gpeturnus', 'gpeunanimous', 'gpeuncertain', 'gpeunited', 'gpeunquenchable', 'gpeunspeakable', 'gpeunsung', 'gpeunutterable', 'gpeurania', 'gpeus', 'gpeusher', 'gpeusurping', 'gpevaldarno', 'gpevariety', 'gpevelazquez', 'gpeventriloquist', 'gpeviewed', 'gpevirtue', 'gpewallowing', 'gpewanted', 'gpewants', 'gpewars', 'gpewhence', 'gpewherein', 'gpewhom', 'gpewinds', 'gpezephon', 'gpezephyr', 'languageenglish', 'lawcollection', 'locblest', 'loccannibalislands', 'loccape', 'loccaptain', 'loccaught', 'loccity', 'locearth', 'locearthmain', 'loceast', 'loceden', 'locelizabethan', 'locencroachingeve', 'locenglishgovernment', 'loceuphrates', 'loceurope', 'locextort', 'locfast', 'locforth', 'locgoodness', 'locgreywoodusher', 'locharounalraschid', 'lochenceforth', 'locholy', 'lochurled', 'locindiaeast', 'locisle', 'locjupiter', 'locmalvoli', 'locmediterranean', 'locmiddle', 'locmightiest', 'locmountains', 'locmountida', 'locnile', 'lococean', 'locophion', 'locpacific', 'locpacificislands', 'locparadise', 'locpark', 'locproteus', 'locpurest', 'locredsea', 'locrhodope', 'locrocks', 'locsea', 'locshot', 'locsinsurprise', 'locsouth', 'locsouthsea', 'locsufficient', 'locsurround', 'locthearabiannights', 'locthecannibalislands', 'locthecapeofhope', 'loctheconvictsettlement', 'loctheearthwheels', 'loctheeastdarkness', 'locthemoon', 'locthemoona', 'locthemoonglobose', 'locthemoonhaste', 'locthenorthsea', 'locthepacificislands', 'loctheparadiseofgodwithout', 'loctheseusandhippolyta', 'locthesonofgod', 'locthetemplegardens', 'locthewesternsun', 'locthinkerboulnois', 'loctravellingeast', 'locturned', 'locturning', 'locvosges', 'locwoman', 'moneyapenny', 'moneygabrielspake', 'moneynearlytwelvehundredmilliondollars', 'moneythetwothousandpounds', 'moneythreethousandpounds', 'moneytwothousandpounds', 'norpabolish', 'norpades', 'norpadorns', 'norpaegaean', 'norpafghan', 'norpafrican', 'norpalcides', 'norpaleian', 'norpamazonian', 'norpamerican', 'norpamericans', 'norpammonian', 'norpangloindian', 'norpanguish', 'norparabian', 'norparcadian', 'norpargues', 'norparimaspian', 'norpashtaroth', 'norpassist', 'norpassyrian', 'norpatlantean', 'norpattest', 'norpaught', 'norpauran', 'norpausonian', 'norpaustralian', 'norpbaptist', 'norpbehests', 'norpbeholders', 'norpbelike', 'norpbent', 'norpbowed', 'norpbrightestseraph', 'norpbritish', 'norpbrought', 'norpbyzantine', 'norpcastalian', 'norpcatastrophist', 'norpcathaian', 'norpcatholic', 'norpceltic', 'norpchaos', 'norpchariots', 'norpcornish', 'norpdriven', 'norpegyptian', 'norpenglish', 'norpeuropean', 'norpfar', 'norpfrench', 'norpfrenchman', 'norpgallic', 'norpgerman', 'norpgorgonian', 'norpgreek', 'norpharrogate', 'norphawker', 'norpheavens', 'norphesperian', 'norphumbly', 'norphungarian', 'norpindian', 'norpirish', 'norpitalian', 'norpitalians', 'norpjapanese', 'norpjehovah', 'norplibyan', 'norplikest', 'norpnature', 'norpnearer', 'norpolympian', 'norppersian', 'norppotentates', 'norpprussian', 'norpreceive', 'norproman', 'norpromancatholic', 'norpsaints', 'norpspaniard', 'norpspanish', 'norpsubdues', 'norpsyrian', 'norptedious', 'norpthenceforth', 'norptuscan', 'norpyankee', 'norpyield', 'ordinalfirst', 'ordinalfourth', 'ordinalhyacinth', 'ordinalsecond', 'ordinalseventh', 'ordinalsixth', 'ordinaltenth', 'ordinalthird', 'orgabyss', 'orgalike', 'organgels', 'orgapostate', 'orgappetite', 'orgauthority', 'orgbelial', 'orgbeyond', 'orgblown', 'orgbred', 'orgbutler', 'orgcanst', 'orgcatastrophism', 'orgchampion', 'orgcherub', 'orgchiefly', 'orgchurch', 'orgcobhole', 'orgcollection', 'orgcomes', 'orgconfusion', 'orgconqueror', 'orgcray', 'orgcreated', 'orgcutler', 'orgdesart', 'orgdevonshire', 'orgdilated', 'orgdiscord', 'orgdisloyal', 'orgdivine', 'orgdrawn', 'orgeastern', 'orgeden', 'orgeternity', 'orgexmoor', 'orgexpress', 'orgfair', 'orgfame', 'orgfancy', 'orgfavour', 'orgfiend', 'orgflew', 'orgforetold', 'orgfoul', 'orgglencoe', 'orggodhead', 'orggrace', 'orggreat', 'orggrimm', 'orgharrogate', 'orghath', 'orgheavens', 'orgherself', 'orghesperus', 'orghierarch', 'orghighest', 'orghovering', 'orginfinite', 'orginvests', 'orginvisible', 'orgiris', 'orgjuliet', 'orgjustice', 'orgknowledge', 'orglabour', 'orglight', 'orgmacnabs', 'orgmaker', 'orgman', 'orgmercy', 'orgmight', 'orgmighty', 'orgmine', 'orgmoloch', 'orgmorn', 'orgmuscari', 'orgmuse', 'orgnature', 'orgoberon', 'orgomnipotence', 'orgopened', 'orgoreb', 'orgpendragon', 'orgpendragons', 'orgpilgrim', 'orgpooley', 'orgpotentate', 'orgpower', 'orgpress', 'orgprincedoms', 'orgproceeded', 'orgprone', 'orgpure', 'orgpursues', 'orgputnam', 'orgquaker', 'orgraised', 'orgreason', 'orgredeemer', 'orgrepeated', 'orgromeo', 'orgscarce', 'orgscorpion', 'orgseed', 'orgseek', 'orgseraphim', 'orgshall', 'orgshone', 'orgsin', 'orgsingle', 'orgsion', 'orgsittim', 'orgsmartsociety', 'orgsmooth', 'orgsociety', 'orgsoft', 'orgson', 'orgspirit', 'orgspiritsofheaven', 'orgspiritual', 'orgstate', 'orgstood', 'orgstream', 'orgstygian', 'orgsubtle', 'orgsun', 'orgsuperiour', 'orgsupreme', 'orgsuspected', 'orgthecarstairscollection', 'orgthedailyreformer', 'orgtheducdevalognes', 'orgthee', 'orgthegreycottage', 'orgthekingofthieves', 'orgthem', 'orgtheparadiseofthieves', 'orgthewesternsun', 'orgthick', 'orgthunderer', 'orgthy', 'orgtime', 'orgtodd', 'orgtowards', 'orgundaunted', 'orgunited', 'orgunseen', 'orguseless', 'orgvictorious', 'orgvirtues', 'orgwaved', 'orgweening', 'orgweighs', 'orgwhateer', 'orgwhenceadam', 'orgwhereof', 'orgwhereto', 'orgwhich', 'orgwhichheaven', 'orgwhite', 'orgwild', 'orgwilkinson', 'orgwing', 'orgwinged', 'orgwithoutmediator', 'orgwitness', 'orgwoe', 'orgwoman', 'orgwoodnymph', 'orgworld', 'orgworth', 'orgzephon', 'personaaron', 'personabandon', 'personabarim', 'personabassin', 'personabdiel', 'personabhorredstyx', 'personabject', 'personabominable', 'personabortive', 'personabraham', 'personabstrusest', 'personaccursed', 'personachilles', 'personacknowledge', 'personadam', 'personadelphi', 'personadmired', 'personadmiring', 'personadmonished', 'personadonis', 'personadventurous', 'personadversary', 'personadverse', 'personaereal', 'personafer', 'personafraid', 'personafresh', 'personafric', 'personagra', 'personaladule', 'personales', 'personalien', 'personallured', 'personalmighth', 'personalmightyking', 'personaloft', 'personaloof', 'personalready', 'personamaze', 'personamber', 'personamongst', 'personamply', 'personamram', 'personangel', 'personangelhailbestowed', 'personangels', 'personanger', 'personanswered', 'personapostles', 'personappeared', 'personapprove', 'personarchangel', 'personarchangelmichael', 'personargue', 'personariel', 'personarioch', 'personarmagnac', 'personarnhold', 'personarnholds', 'personarthur', 'personarthurcarstairs', 'personartificer', 'personascalon', 'personasphaltick', 'personassembledangels', 'personassures', 'personastoreth', 'personastronomer', 'personatlanticksisters', 'personatlas', 'personattracted', 'personaudacious', 'personaudrey', 'personaudreywatson', 'personaugmented', 'personaurora', 'personaurorarome', 'personaux', 'personawakening', 'personazazel', 'personbaalim', 'personbanded', 'personbane', 'personbaptist', 'personbarca', 'personbarlow', 'personbarred', 'personbases', 'personbear', 'personbeast', 'personbecamst', 'personbefall', 'personbefallen', 'personbefits', 'personbegan', 'personbegins', 'personbegottenson', 'personbehold', 'personbeholding', 'personbelched', 'personbending', 'personbeneath', 'personbeneathgibraltar', 'personbeneathmagellan', 'personberry', 'personbeseeching', 'personbestirs', 'personbestuck', 'personbetook', 'personbetter', 'personbeyond', 'personbeyondpetsora', 'personblindthamyris', 'personblown', 'personbold', 'personbone', 'personbore', 'personborgia', 'personborne', 'personboulnois', 'personbound', 'personbranching', 'personbreathe', 'personbrightens', 'personbroke', 'personbrown', 'personbrowns', 'personbrun', 'personbruno', 'personbrushed', 'personbuild', 'personbuilt', 'personburns', 'personburnt', 'personbusiris', 'personbutler', 'personbyron', 'personcaesar', 'personcalabria', 'personcalhounkidd', 'personcalhounkidds', 'personcamilledesmoulins', 'personcanaan', 'personcapacious', 'personcaptaincutler', 'personcarr', 'personcarrots', 'personcarstairs', 'personcaspian', 'personcast', 'personcatched', 'personcato', 'personcecil', 'personcecilfanshaw', 'personcenci', 'personceres', 'personchablis', 'personcham', 'personchamberlain', 'personchampion', 'personchampselysee', 'personchanceapproach', 'personchariot', 'personchaucer', 'personcherubick', 'personcherubim', 'personcherubimalone', 'personcherubimput', 'personcherubimthy', 'personchiefly', 'personchosen', 'personchristabelcarstairs', 'personcircean', 'personcircled', 'personclad', 'personclashed', 'personclaude', 'personclaudechampion', 'personclaudechampions', 'personclearspring', 'personclemenceau', 'personcolonies', 'personcommon', 'personcomplete', 'personcompose', 'personconjugal', 'personconsult', 'personcontending', 'personcontortionist', 'personcontrive', 'personconverse', 'personconversing', 'personconvictescapes', 'personcouched', 'personcousinoliver', 'personcowdray', 'personcowls', 'personcray', 'personcreator', 'personcroat', 'personcruel', 'personcrystalline', 'personcutler', 'personcycle', 'personcyrene', 'personcytherea', 'persondales', 'persondan', 'persondanaw', 'persondanite', 'persondannunzio', 'persondante', 'persondaphne', 'persondarien', 'persondarkens', 'persondarwin', 'persondaughter', 'persondaughterofgod', 'persondavid', 'persondavis', 'personday', 'persondeath', 'persondeathshall', 'persondecrepit', 'persondeep', 'persondelia', 'persondeliverer', 'persondelos', 'persondemoniack', 'persondescends', 'persondeservingparadise', 'persondesire', 'persondesiring', 'persondespairing', 'persondespairtended', 'persondeterred', 'persondevil', 'persondevoured', 'persondickens', 'persondictaeanjove', 'persondire', 'persondis', 'persondisburdened', 'persondiscovered', 'persondisjoin', 'persondisposer', 'persondistinct', 'persondivan', 'persondivine', 'persondivinemends', 'persondivinesimilitude', 'persondole', 'persondominick', 'persondominion', 'persondonjuan', 'persondoom', 'persondown', 'persondowns', 'persondrake', 'persondreaded', 'persondrhirsch', 'persondrhood', 'persondropped', 'persondropsies', 'persondruggerdavis', 'persondry', 'personduffey', 'personduke', 'persondwelt', 'personear', 'personeasy', 'personeccentrick', 'personeden', 'personedwardnutt', 'personelisha', 'personelizabeth', 'personemperor', 'personenamoured', 'personencamping', 'personencrease', 'personendued', 'personengland', 'personenglishman', 'personenlightener', 'personenna', 'personentered', 'personenutt', 'personenvier', 'personenvious', 'personequal', 'personere', 'personerr', 'personesau', 'personespousedeve', 'personessex', 'personeternalprovidence', 'personethel', 'personethelharrogate', 'personettatodd', 'personeurus', 'personeve', 'personeveaddressed', 'personevebegan', 'personevedown', 'personevefelt', 'personevehad', 'personevelay', 'personeveministered', 'personeveperceiving', 'personevepersisted', 'personeveshall', 'personevethus', 'personeveused', 'personexalted', 'personexceeded', 'personexempt', 'personexhalations', 'personexile', 'personexploded', 'personeyed', 'personeyre', 'personeyres', 'personeyrie', 'personezekiel', 'personezza', 'personezzamontano', 'personfairangel', 'personfairconsort', 'personfairdaughter', 'personfalconroy', 'personfallencherub', 'personfamiliar', 'personfanshaw', 'personfeature', 'personfeed', 'personfell', 'personfez', 'personfields', 'personfiendstood', 'personfind', 'personfinn', 'personflambeau', 'personfled', 'personflood', 'personflora', 'personflourished', 'personflowers', 'personfly', 'personfoe', 'personfoecan', 'personfoeclear', 'personfollowed', 'personfolly', 'personfond', 'personforbid', 'personforeknowledge', 'personformsexcelling', 'personforsaken', 'personfound', 'personfountains', 'personfranceshoward', 'personfrank', 'personfrankharrogate', 'personfraud', 'personfree', 'personfrequenting', 'personfromhameth', 'personfromheavens', 'personfromsusa', 'personfulham', 'personfuries', 'personfusil', 'persongabriel', 'persongambolled', 'persongauls', 'persongehenna', 'persongentle', 'persongeorge', 'persongeorgeherbert', 'persongeryon', 'persongibeah', 'persongift', 'persongiles', 'persongirt', 'personglad', 'persongladly', 'personglass', 'persongliding', 'persongod', 'persongoddesses', 'persongodhath', 'persongodhighly', 'persongodlike', 'persongodsupreme', 'persongolgotha', 'persongongs', 'persongood', 'persongordian', 'persongorgon', 'persongorgons', 'persongoshen', 'persongraces', 'persongrateful', 'persongrave', 'persongrayheaded', 'persongreenwoodusher', 'persongreywoodusher', 'persongrimdeath', 'persongrimm', 'personguiana', 'personhadst', 'personhail', 'personhaply', 'personhappier', 'personharan', 'personhard', 'personharmony', 'personharrogate', 'personhasted', 'personhath', 'personhathomnipresence', 'personhawker', 'personhawkins', 'personheap', 'personheaps', 'personheavenerr', 'personheavens', 'personhedwig', 'personhedwigvon', 'personheld', 'personhelldraw', 'personhellprecedence', 'personhenryjames', 'personheralds', 'personherculeansamson', 'personhermes', 'personhesebonandhoronaim', 'personhesperides', 'personhidamalthea', 'personhide', 'personhill', 'personhirsch', 'personhistorian', 'personhisword', 'personhoarse', 'personhold', 'personholds', 'personholy', 'personhome', 'personhomeward', 'personhood', 'personhorrible', 'personhorrid', 'personhosanna', 'personhugepython', 'personhugest', 'personhung', 'personhurling', 'personhymns', 'personida', 'personignobly', 'personill', 'personillaudable', 'personillworthy', 'personimbordered', 'personimmutable', 'personinextricable', 'personinfinitude', 'personinnumerable', 'personinsensible', 'personinseparable', 'personinsinuating', 'personinstinct', 'personintent', 'personinternalman', 'personintestine', 'personinto', 'personintothisdeep', 'personinvulnerable', 'personiretontodd', 'personisaacgreen', 'personisidorebruno', 'personisleshesperian', 'personjacob', 'personjames', 'personjamesdalroy', 'personjamesi', 'personjamestodhunter', 'personjanus', 'personjar', 'personjesus', 'personjohn', 'personjohnboulnois', 'personjones', 'personjonesdead', 'personjosiah', 'personjove', 'personjovesheer', 'personjudah', 'personjudas', 'personjulesdubosc', 'personjuno', 'personkensington', 'personkewgardens', 'personkidd', 'personkindled', 'personkindles', 'personkingmidas', 'personkings', 'personknew', 'personknowest', 'personlabouring', 'personlaertes', 'personlamenting', 'personlastrose', 'personlaw', 'personlay', 'personlays', 'personlearn', 'personledeve', 'personleo', 'personleonardodavinci', 'personlethe', 'personlets', 'personleucothea', 'personlevelled', 'personliberty', 'personlibyanjove', 'personlie', 'personlights', 'personliken', 'personlikening', 'personlimbed', 'personlong', 'personlordpooley', 'personlords', 'personlose', 'personloses', 'personlovelier', 'personlured', 'personluxury', 'personmacnab', 'personmaeonides', 'personmaggie', 'personmaggiemacnab', 'personmagnanimous', 'personmagnificence', 'personmagnificent', 'personmagyar', 'personmaia', 'personmaimed', 'personmain', 'personmajestydivine', 'personmajor', 'personmaker', 'personmakeromnipotent', 'personmalvoli', 'personmammon', 'personman', 'personmanfallen', 'personmankind', 'personmanrecounted', 'personmanrestore', 'personmanwhom', 'personmarasmus', 'personmarco', 'personmarconi', 'personmarieantoinette', 'personmarmagnac', 'personmarmandarmagnac', 'personmarocco', 'personmary', 'personmatter', 'personmauricebrun', 'personmaxbeerbohm', 'personmbrun', 'personmdubosc', 'personmean', 'personmedusa', 'personmegaera', 'personmelind', 'personmelt', 'personmerlin', 'personmessenger', 'personmessiahking', 'personmethought', 'personmichael', 'personmichaelwrought', 'personmild', 'personmiller', 'personmillionairetodds', 'personmine', 'personministringspirits', 'personmissaurora', 'personmissbarlow', 'personmissethels', 'personmissharrogate', 'personmissrome', 'personmissromes', 'personmisswatson', 'personmistress', 'personmmauricebrun', 'personmogul', 'personmonarch', 'personmonsieur', 'personmontalban', 'personmontano', 'personmoon', 'personmordecai', 'personmorn', 'personmosaick', 'personmoses', 'personmozambick', 'personmrs', 'personmrsboulnois', 'personmrsmacnab', 'personmulciber', 'personmull', 'personmultitudes', 'personmurmuring', 'personmuscari', 'personmuses', 'personmyhellhounds', 'personmysterious', 'personnaked', 'personnatives', 'personnature', 'personnebo', 'personnecessity', 'personnelson', 'personnextchemos', 'personniggerned', 'personnight', 'personninefold', 'personnoah', 'personnotspirits', 'personnought', 'personnourisher', 'personnutt', 'personnymphnorfaunus', 'personoberon', 'personoccasionally', 'personofman', 'personoft', 'personoliveroman', 'personolympias', 'personolympus', 'personomnifickword', 'personomniscient', 'personophiuchus', 'personorcus', 'personorion', 'personorionhood', 'personorionhoods', 'personorontes', 'personoscarrian', 'personotto', 'personottoofgrossenmark', 'personourmaker', 'personoutstretched', 'personpandora', 'personpaquin', 'personparadiselevelled', 'personparadiseofgod', 'personpark', 'personpasturing', 'personpaths', 'personpatrickbutler', 'personpattern', 'personpaul', 'personpaulhirsch', 'personpavement', 'personpendragon', 'personperplexes', 'personpeter', 'personpeterpendragon', 'personpharaoh', 'personphilip', 'personphiliphawker', 'personphilisteandalilah', 'personphlegeton', 'personpitched', 'personplainlier', 'personplato', 'personpomona', 'personpooley', 'personportending', 'personportsaid', 'personpotsdam', 'personpowdered', 'personpowers', 'personprecipitate', 'personprinceotto', 'personprinceottoofgrossenmark', 'personproduce', 'personprolifick', 'personpronouncedamong', 'personput', 'personputnam', 'personputney', 'personpyrrha', 'personqueen', 'personqueenelizabeth', 'personquenched', 'personrace', 'personran', 'personrancour', 'personraphael', 'personrapt', 'personrational', 'personreach', 'personrecess', 'personreenter', 'personregent', 'personregions', 'personremains', 'personrenascence', 'personrepairing', 'personreplenished', 'personreptile', 'personresembles', 'personresolved', 'personretires', 'personreturn', 'personrevenge', 'personrevisitst', 'personrhea', 'personrichmexico', 'personrisen', 'personrobinhood', 'personrode', 'personroman', 'personrome', 'personrose', 'personroused', 'personrove', 'personruby', 'personrustick', 'personsadacheron', 'personsafest', 'personsaid', 'personsaidtheangel', 'personsaintpeter', 'personsamos', 'personsamson', 'personsamuelharrogate', 'personsanguine', 'personsantamaria', 'personsarra', 'personsat', 'personsatan', 'personsatanick', 'personsathorrour', 'personsaviour', 'personsaw', 'personsawsatan', 'personschwartz', 'personscipio', 'personscotch', 'personscout', 'personseawood', 'personseduce', 'personseer', 'personseizedus', 'personsennaar', 'personseon', 'personsequah', 'personseraphic', 'personseraphiclords', 'personseraphim', 'personseraphimapproach', 'personserpent', 'personserraliona', 'personset', 'personseymour', 'personshadowy', 'personshakes', 'personshakespeare', 'personshal', 'personshall', 'personshelley', 'personsherry', 'personshocks', 'personshorn', 'personsidelong', 'personsighing', 'personsignormuscari', 'personsilence', 'personsiloa', 'personsimon', 'personsin', 'personsings', 'personsire', 'personsirechoose', 'personsirocco', 'personslumdinner', 'personsmiled', 'personsmit', 'personsnake', 'personsoleeve', 'personsolomon', 'personson', 'personsonofgod', 'personsonpresenting', 'personsouls', 'personspare', 'personspeed', 'personspirits', 'personsquat', 'personstand', 'personstjohn', 'personstood', 'personstranger', 'personstrength', 'personstrict', 'personsubdue', 'personsubjection', 'personsuitable', 'personsultan', 'personsun', 'personsung', 'personsunghalleluiah', 'personsunk', 'personsuperiour', 'personsurceased', 'personsurer', 'personsurfeit', 'personsurpass', 'personsurrey', 'personsurveying', 'personsus', 'personswallows', 'personswarmed', 'personswinburne', 'persontall', 'persontartar', 'persontauris', 'persontemir', 'persontemper', 'persontempter', 'persontempting', 'personteneriff', 'persontheadversary', 'persontheadversarytriumph', 'persontheassessourofhis', 'personthebes', 'personthecarstairscollection', 'personthechamberlainyou', 'personthecreator', 'personthefiendsaw', 'personthefilialgodhead', 'personthegodlikeangel', 'personthekingofheaven', 'personthekingofitaly', 'personthekingofthethieves', 'personthekingofthieves', 'personthelordof', 'personthem', 'personthence', 'personthenceforth', 'persontheprinceofangels', 'persontheprinceofheiligwaldenstein', 'persontheprinceofhell', 'persontherein', 'persontherenascenceprince', 'persontheseraphimabdiel', 'personthick', 'personthinkerboulnois', 'personthiscecilfanshaw', 'personthither', 'personthorns', 'personthou', 'personthousun', 'personthrice', 'personthrones', 'personthumb', 'personthy', 'personthyestean', 'persontiresias', 'persontitianesque', 'persontodd', 'persontodhunter', 'persontolstoy', 'persontophet', 'persontorment', 'persontouched', 'persontoward', 'persontraining', 'persontransformed', 'persontransports', 'persontreason', 'persontrebisond', 'persontreble', 'persontremisen', 'persontriumphal', 'persontriumphs', 'persontroy', 'persontunes', 'persontyphon', 'persontyrolean', 'personunacceptable', 'personunbroken', 'personunfastens', 'personunseemly', 'personuntrained', 'personupborne', 'personupheld', 'personuriel', 'personurim', 'personusher', 'personvacant', 'personvain', 'personvallombrosa', 'personvalognes', 'personvalour', 'personvanguard', 'personvapours', 'personvary', 'personvaunting', 'personvenial', 'personvertumnus', 'personvicegerentson', 'personvictor', 'personvictorysat', 'personvirtue', 'personvoicedivine', 'personvolatilehermes', 'personwaggawagga', 'personwaited', 'personwaiting', 'personwalked', 'personwalter', 'personwaltercowdray', 'personwalterpendragon', 'personwandsworth', 'personwantoned', 'personwants', 'personwarmed', 'personwarriours', 'personwatson', 'personweakening', 'personwearied', 'personwhateverearth', 'personwhereabouts', 'personwhereer', 'personwhereon', 'personwheretigris', 'personwherewith', 'personwhichmans', 'personwhichreason', 'personwhispered', 'personwhither', 'personwhom', 'personwhose', 'personwider', 'personwild', 'personwilliamjames', 'personwilson', 'personwilsonseymour', 'personwithinhellgates', 'personwon', 'personworlds', 'personworse', 'personworthy', 'personwrath', 'personwrinkled', 'personxerxes', 'personye', 'personyeangels', 'personyebirds', 'personyecedars', 'personyemists', 'personyepowers', 'personyorkshire', 'personyorkshireman', 'personyoungbacchus', 'personyours', 'personzephyrus', 'productaccess', 'productacknowledged', 'productadd', 'productalone', 'productancientbriton', 'productangel', 'productangelforms', 'productansweringhis', 'productaught', 'productbeautys', 'productbegirt', 'productbent', 'productbirds', 'productblackman', 'productbrown', 'productcadmus', 'productcaptain', 'productclassic', 'productcommunicated', 'productconscience', 'productcorrupted', 'productcowdray', 'productcreated', 'productcreator', 'productcreatures', 'productcrooked', 'productcycladesdelos', 'productdawn', 'productdivided', 'productdoubled', 'productearthgave', 'productelaborate', 'productelops', 'productepidaurus', 'productequal', 'productequivalent', 'productessencescan', 'productethereal', 'productetherealvirtues', 'productevil', 'productfairest', 'productfilialgodhead', 'productfit', 'productfresh', 'productgalileo', 'productgird', 'productgoddessfeignedof', 'productgreat', 'productgrossenmark', 'producthimalayas', 'producthumbles', 'producthydrus', 'productinclines', 'productjudged', 'productlords', 'productlucifer', 'productmaeotis', 'productmaggie', 'productmanlet', 'productmannor', 'productmans', 'productmanslaughter', 'productmanson', 'productmanthy', 'productmanwhichgod', 'productme', 'productmonkey', 'productmorn', 'productmoses', 'productmountcasiusold', 'productmyjudgements', 'productmymaker', 'productmyonlyson', 'productnilus', 'productniphates', 'productopening', 'productorder', 'productorus', 'productoutrageous', 'productpowers', 'productprove', 'productpurples', 'productquaff', 'productreceive', 'productsaturn', 'productseymour', 'productshadow', 'productshine', 'productsight', 'productsignormuscari', 'productsky', 'productsole', 'productsonavengedupon', 'productsonperceive', 'productstars', 'productsurprisal', 'producttartarus', 'producttaurus', 'productthearchangel', 'productthearchangeluriel', 'productthebarparlour', 'productthefilialpower', 'productthefluid', 'producttheheadone', 'producttheholyone', 'productthespiritofgod', 'productthestygianpowerscould', 'productthesunhath', 'productthewillheard', 'productthrones', 'productvanquishedadramelech', 'productvapour', 'productvernal', 'productvictor', 'productvital', 'productwide', 'productwinnows', 'productword', 'quantityaboutfivefeet', 'quantityaboutfourteenfeet', 'quantityafewfeet', 'quantityafewyards', 'quantityamile', 'quantityamileandahalf', 'quantityathousanddemigods', 'quantityathousandfeet', 'quantityfouryards', 'quantityhalfahundredyards', 'quantityhalfamile', 'quantityhalfbreeds', 'quantityhalfonfoot', 'quantityhalfrounding', 'quantityhundredsofmiles', 'quantitymilesandmiles', 'quantitymorethantwohundredyards', 'quantitynearlytwomiles', 'quantitysomehundredyards', 'quantitytendegrees', 'quantitythethirdhisfeet', 'quantitythirtymiles', 'quantitythree', 'quantitythreemiles', 'quantitythreeyards', 'quantitytwoinches', 'quantitytwothousandpounds', 'quantitytwoyards', 'timeabouthalfaminute', 'timeabouthalfanhourago', 'timeaboutthisparticularevening', 'timeacursedhour', 'timeadismalnight', 'timeafewminutes', 'timeafewseconds', 'timeafreshmorning', 'timeafternoon', 'timeafternoons', 'timeallnight', 'timeallnightlong', 'timealternateallnightlong', 'timeaminute', 'timeanhour', 'timeanhourandahalf', 'timeanhourorsoago', 'timeanotherrow', 'timeanyminute', 'timeasmanyminutes', 'timeautumnevening', 'timebetweentillmorning', 'timedusk', 'timeeachhour', 'timeeachmorning', 'timeearlythisevening', 'timeendtoendnights', 'timeevening', 'timeeveryhouroftheday', 'timeeverynight', 'timefiveminutes', 'timefortyseconds', 'timefromnight', 'timegladevening', 'timehalfanhour', 'timehalfpast', 'timehighthofnoon', 'timehisnight', 'timehour', 'timehourly', 'timehours', 'timejustbeforedawnthismorning', 'timelastevenings', 'timelastnight', 'timelatelightofafternoon', 'timelaterthaneightoclock', 'timemidnight', 'timemidnightvapour', 'timemidnoon', 'timeminutes', 'timemoon', 'timemorning', 'timenight', 'timenightly', 'timenights', 'timeninethatevening', 'timenoon', 'timeoneevening', 'timeonemidnight', 'timeonemoment', 'timeonenight', 'timepondanhour', 'timeseveralhours', 'timesomeminuteandahalf', 'timesomeseconds', 'timesomethreehoursafterwards', 'timesometwohoursago', 'timesuchmorninghours', 'timesuchnight', 'timetenminutes', 'timethatgoodhour', 'timethathour', 'timethatnight', 'timetheaccustomedhour', 'timetheafternoon', 'timethecirclinghours', 'timetheduskyhour', 'timetheearlyevening', 'timetheendoftheevening', 'timetheevening', 'timethefruitlesshours', 'timethehour', 'timethehourofnight', 'timethehourofnoon', 'timetheirhappyhours', 'timetheirhour', 'timetheirksomehours', 'timethelastmoment', 'timethemoon', 'timethemorning', 'timethemorninghour', 'timethemorningplanet', 'timethenight', 'timethesemidhours', 'timethesilenthours', 'timethisafternoon', 'timethisevening', 'timethishour', 'timethisnight', 'timetonight', 'timetonoon', 'timetwentyminutes', 'timewishedhour', 'timewithoutnight', 'work_of_artadieu', 'work_of_artagoddessamonggods', 'work_of_artaheavenonearth', 'work_of_artallmybrothersdied', 'work_of_artarryatmargate', 'work_of_artastoundingescapeofmillionairesdaughterwithconvict', 'work_of_artbible', 'work_of_artbyjove', 'work_of_artcabtowaggawagga', 'work_of_artcanary', 'work_of_artcatastrophism', 'work_of_artcommittee', 'work_of_artcrimeofjohnboulnois', 'work_of_artdarwinchewsdirt', 'work_of_artdeepencamptheirlegions', 'work_of_artdied', 'work_of_artdruggerdavis', 'work_of_arteloquencethesoul', 'work_of_arteternalspirits', 'work_of_artetherealkingpossesses', 'work_of_artforfeittodeath', 'work_of_artgods', 'work_of_artgodsdisdained', 'work_of_artheardontheruefulstream', 'work_of_artihopeyoullunderstand', 'work_of_artkeepcatastrophic', 'work_of_artlaughing', 'work_of_artlonging', 'work_of_artlooks', 'work_of_artlove', 'work_of_artluzdreaming', 'work_of_artmidsummernightsdream', 'work_of_artmightymurder', 'work_of_artmrbrown', 'work_of_artnature', 'work_of_artoldboulnois', 'work_of_artoldnight', 'work_of_artopening', 'work_of_artottoprinceofheiligwaldensteinandgrossenmark', 'work_of_artpeeressandpoisons', 'work_of_artplentyofthose', 'work_of_artpowerhurled', 'work_of_artpowersanddominionsdeitiesofheaven', 'work_of_artpowersandspirits', 'work_of_artprefer', 'work_of_artsavagemurderofawarder', 'work_of_artsela', 'work_of_artshornofhis', 'work_of_artsinanddeath', 'work_of_artsoul', 'work_of_arttempting', 'work_of_arttheapocalypse', 'work_of_artthebloodythumb', 'work_of_artthebrunocase', 'work_of_artthecrossofchristbebetweenmeandharm', 'work_of_arttheearoftheeyres', 'work_of_arttheeerieear', 'work_of_artthegods', 'work_of_arttheheelofthenorman', 'work_of_arttheirlivingstrength', 'work_of_artthekingofheaven', 'work_of_artthekingofthieves', 'work_of_artthemoonsits', 'work_of_arttheparadiseoffools', 'work_of_artthepassagemystery', 'work_of_artthepowersofheavensuch', 'work_of_artthepromisedlandtogodso', 'work_of_artthequeenofloveandbeauty', 'work_of_arttherisingsunset', 'work_of_artthesonofgod', 'work_of_artthethinkers', 'work_of_artvoodoo', 'work_of_artwearywillie']\n"
     ]
    }
   ],
   "source": [
    "vectorizer_ents = CountVectorizer(max_features=2000)\n",
    "X_ents = vectorizer_ents.fit_transform(both_ents)\n",
    "print(vectorizer_ents.get_feature_names())"
   ]
  },
  {
   "cell_type": "code",
   "execution_count": 81,
   "metadata": {},
   "outputs": [
    {
     "data": {
      "text/html": [
       "<div>\n",
       "<style scoped>\n",
       "    .dataframe tbody tr th:only-of-type {\n",
       "        vertical-align: middle;\n",
       "    }\n",
       "\n",
       "    .dataframe tbody tr th {\n",
       "        vertical-align: top;\n",
       "    }\n",
       "\n",
       "    .dataframe thead th {\n",
       "        text-align: right;\n",
       "    }\n",
       "</style>\n",
       "<table border=\"1\" class=\"dataframe\">\n",
       "  <thead>\n",
       "    <tr style=\"text-align: right;\">\n",
       "      <th></th>\n",
       "      <th>able</th>\n",
       "      <th>abruptly</th>\n",
       "      <th>absence</th>\n",
       "      <th>absent</th>\n",
       "      <th>abyss</th>\n",
       "      <th>accept</th>\n",
       "      <th>accord</th>\n",
       "      <th>account</th>\n",
       "      <th>accuse</th>\n",
       "      <th>achieve</th>\n",
       "      <th>...</th>\n",
       "      <th>work_of_arttheparadiseoffools</th>\n",
       "      <th>work_of_artthepassagemystery</th>\n",
       "      <th>work_of_artthepowersofheavensuch</th>\n",
       "      <th>work_of_artthepromisedlandtogodso</th>\n",
       "      <th>work_of_artthequeenofloveandbeauty</th>\n",
       "      <th>work_of_arttherisingsunset</th>\n",
       "      <th>work_of_artthesonofgod</th>\n",
       "      <th>work_of_artthethinkers</th>\n",
       "      <th>work_of_artvoodoo</th>\n",
       "      <th>work_of_artwearywillie</th>\n",
       "    </tr>\n",
       "  </thead>\n",
       "  <tbody>\n",
       "    <tr>\n",
       "      <th>0</th>\n",
       "      <td>0</td>\n",
       "      <td>0</td>\n",
       "      <td>0</td>\n",
       "      <td>0</td>\n",
       "      <td>0</td>\n",
       "      <td>0</td>\n",
       "      <td>0</td>\n",
       "      <td>0</td>\n",
       "      <td>0</td>\n",
       "      <td>0</td>\n",
       "      <td>...</td>\n",
       "      <td>0</td>\n",
       "      <td>0</td>\n",
       "      <td>0</td>\n",
       "      <td>0</td>\n",
       "      <td>0</td>\n",
       "      <td>0</td>\n",
       "      <td>0</td>\n",
       "      <td>0</td>\n",
       "      <td>0</td>\n",
       "      <td>0</td>\n",
       "    </tr>\n",
       "    <tr>\n",
       "      <th>1</th>\n",
       "      <td>0</td>\n",
       "      <td>0</td>\n",
       "      <td>0</td>\n",
       "      <td>0</td>\n",
       "      <td>0</td>\n",
       "      <td>0</td>\n",
       "      <td>0</td>\n",
       "      <td>0</td>\n",
       "      <td>0</td>\n",
       "      <td>0</td>\n",
       "      <td>...</td>\n",
       "      <td>0</td>\n",
       "      <td>0</td>\n",
       "      <td>0</td>\n",
       "      <td>0</td>\n",
       "      <td>0</td>\n",
       "      <td>0</td>\n",
       "      <td>0</td>\n",
       "      <td>0</td>\n",
       "      <td>0</td>\n",
       "      <td>0</td>\n",
       "    </tr>\n",
       "    <tr>\n",
       "      <th>2</th>\n",
       "      <td>0</td>\n",
       "      <td>0</td>\n",
       "      <td>0</td>\n",
       "      <td>0</td>\n",
       "      <td>0</td>\n",
       "      <td>0</td>\n",
       "      <td>0</td>\n",
       "      <td>0</td>\n",
       "      <td>0</td>\n",
       "      <td>0</td>\n",
       "      <td>...</td>\n",
       "      <td>0</td>\n",
       "      <td>0</td>\n",
       "      <td>0</td>\n",
       "      <td>0</td>\n",
       "      <td>0</td>\n",
       "      <td>0</td>\n",
       "      <td>0</td>\n",
       "      <td>0</td>\n",
       "      <td>0</td>\n",
       "      <td>0</td>\n",
       "    </tr>\n",
       "    <tr>\n",
       "      <th>3</th>\n",
       "      <td>0</td>\n",
       "      <td>0</td>\n",
       "      <td>0</td>\n",
       "      <td>0</td>\n",
       "      <td>0</td>\n",
       "      <td>0</td>\n",
       "      <td>0</td>\n",
       "      <td>0</td>\n",
       "      <td>0</td>\n",
       "      <td>0</td>\n",
       "      <td>...</td>\n",
       "      <td>0</td>\n",
       "      <td>0</td>\n",
       "      <td>0</td>\n",
       "      <td>0</td>\n",
       "      <td>0</td>\n",
       "      <td>0</td>\n",
       "      <td>0</td>\n",
       "      <td>0</td>\n",
       "      <td>0</td>\n",
       "      <td>0</td>\n",
       "    </tr>\n",
       "    <tr>\n",
       "      <th>4</th>\n",
       "      <td>0</td>\n",
       "      <td>0</td>\n",
       "      <td>0</td>\n",
       "      <td>0</td>\n",
       "      <td>0</td>\n",
       "      <td>0</td>\n",
       "      <td>0</td>\n",
       "      <td>0</td>\n",
       "      <td>0</td>\n",
       "      <td>0</td>\n",
       "      <td>...</td>\n",
       "      <td>0</td>\n",
       "      <td>0</td>\n",
       "      <td>0</td>\n",
       "      <td>0</td>\n",
       "      <td>0</td>\n",
       "      <td>0</td>\n",
       "      <td>0</td>\n",
       "      <td>0</td>\n",
       "      <td>0</td>\n",
       "      <td>0</td>\n",
       "    </tr>\n",
       "  </tbody>\n",
       "</table>\n",
       "<p>5 rows × 3443 columns</p>\n",
       "</div>"
      ],
      "text/plain": [
       "   able  abruptly  absence  absent  abyss  accept  accord  account  accuse  \\\n",
       "0     0         0        0       0      0       0       0        0       0   \n",
       "1     0         0        0       0      0       0       0        0       0   \n",
       "2     0         0        0       0      0       0       0        0       0   \n",
       "3     0         0        0       0      0       0       0        0       0   \n",
       "4     0         0        0       0      0       0       0        0       0   \n",
       "\n",
       "   achieve           ...            work_of_arttheparadiseoffools  \\\n",
       "0        0           ...                                        0   \n",
       "1        0           ...                                        0   \n",
       "2        0           ...                                        0   \n",
       "3        0           ...                                        0   \n",
       "4        0           ...                                        0   \n",
       "\n",
       "   work_of_artthepassagemystery  work_of_artthepowersofheavensuch  \\\n",
       "0                             0                                 0   \n",
       "1                             0                                 0   \n",
       "2                             0                                 0   \n",
       "3                             0                                 0   \n",
       "4                             0                                 0   \n",
       "\n",
       "   work_of_artthepromisedlandtogodso  work_of_artthequeenofloveandbeauty  \\\n",
       "0                                  0                                   0   \n",
       "1                                  0                                   0   \n",
       "2                                  0                                   0   \n",
       "3                                  0                                   0   \n",
       "4                                  0                                   0   \n",
       "\n",
       "   work_of_arttherisingsunset  work_of_artthesonofgod  work_of_artthethinkers  \\\n",
       "0                           0                       0                       0   \n",
       "1                           0                       0                       0   \n",
       "2                           0                       0                       0   \n",
       "3                           0                       0                       0   \n",
       "4                           0                       0                       0   \n",
       "\n",
       "   work_of_artvoodoo  work_of_artwearywillie  \n",
       "0                  0                       0  \n",
       "1                  0                       0  \n",
       "2                  0                       0  \n",
       "3                  0                       0  \n",
       "4                  0                       0  \n",
       "\n",
       "[5 rows x 3443 columns]"
      ]
     },
     "execution_count": 81,
     "metadata": {},
     "output_type": "execute_result"
    }
   ],
   "source": [
    "df_ents = pd.DataFrame(X_ents.toarray(), columns=vectorizer_ents.get_feature_names())\n",
    "df_combined = df.join(df_ents, lsuffix='_orig', rsuffix='_ents')\n",
    "df_combined.head()"
   ]
  },
  {
   "cell_type": "code",
   "execution_count": 82,
   "metadata": {},
   "outputs": [
    {
     "name": "stdout",
     "output_type": "stream",
     "text": [
      "Training set score: 0.9904614591389533\n",
      "\n",
      "Test set score: 0.8642691415313225\n"
     ]
    }
   ],
   "source": [
    "X4 = df.drop('author', axis=1)\n",
    "X_train4, X_test4, y_train4, y_test4 = train_test_split(X4,\n",
    "                                                    Y, \n",
    "                                                    test_size=0.4, \n",
    "                                                    random_state=0)\n",
    "\n",
    "rfc = RandomForestClassifier(n_estimators=10)\n",
    "train = rfc.fit(X_train4, y_train4)\n",
    "\n",
    "print('Training set score:', rfc.score(X_train4, y_train3))\n",
    "print('\\nTest set score:', rfc.score(X_test4, y_test4))"
   ]
  },
  {
   "cell_type": "code",
   "execution_count": 83,
   "metadata": {},
   "outputs": [
    {
     "data": {
      "image/png": "[encoded data removed]",
      "text/plain": [
       "<Figure size 432x288 with 1 Axes>"
      ]
     },
     "metadata": {
      "needs_background": "light"
     },
     "output_type": "display_data"
    }
   ],
   "source": [
    "importances = rfc.feature_importances_\n",
    "std = np.std([tree.feature_importances_ for tree in rfc.estimators_],\n",
    "             axis=0)\n",
    "indices = np.argsort(importances)[:-20:-1]\n",
    "\n",
    "\n",
    "# Plot the feature importances of the forest\n",
    "plt.figure()\n",
    "plt.title(\"Feature importances\")\n",
    "plt.bar(range(len(indices)), importances[indices], color=\"r\", yerr=std[indices], align=\"center\")\n",
    "plt.xticks(range(len(indices)), df.columns[indices],\n",
    "          rotation='vertical')\n",
    "plt.show()"
   ]
  },
  {
   "cell_type": "code",
   "execution_count": 84,
   "metadata": {},
   "outputs": [
    {
     "name": "stdout",
     "output_type": "stream",
     "text": [
      "Training set score: 0.9677751997937613\n",
      "\n",
      "Test set score: 0.9238205723124516\n"
     ]
    }
   ],
   "source": [
    "lr = LogisticRegression(solver='liblinear')\n",
    "train = lr.fit(X_train3, y_train3)\n",
    "print('Training set score:', lr.score(X_train4, y_train4))\n",
    "print('\\nTest set score:', lr.score(X_test4, y_test4))"
   ]
  },
  {
   "cell_type": "markdown",
   "metadata": {},
   "source": [
    "# Try adding all caps\n"
   ]
  },
  {
   "cell_type": "code",
   "execution_count": 93,
   "metadata": {},
   "outputs": [],
   "source": [
    "both_caps = [sum([token.is_upper for token in sent]) for sent in sentences['text_sentences']]"
   ]
  },
  {
   "cell_type": "code",
   "execution_count": 97,
   "metadata": {},
   "outputs": [],
   "source": [
    "df['all_caps'] = both_caps"
   ]
  },
  {
   "cell_type": "code",
   "execution_count": 99,
   "metadata": {},
   "outputs": [],
   "source": [
    "X5 = df.drop('author', axis=1)\n",
    "X_train5, X_test5, y_train5, y_test5 = train_test_split(X5,\n",
    "                                                    Y, \n",
    "                                                    test_size=0.4, \n",
    "                                                    random_state=0)"
   ]
  },
  {
   "cell_type": "code",
   "execution_count": 101,
   "metadata": {},
   "outputs": [
    {
     "name": "stdout",
     "output_type": "stream",
     "text": [
      "Training set score: 0.9675174013921114\n",
      "\n",
      "Test set score: 0.9238205723124516\n"
     ]
    }
   ],
   "source": [
    "lr = LogisticRegression(solver='liblinear')\n",
    "train = lr.fit(X_train5, y_train5)\n",
    "print('Training set score:', lr.score(X_train5, y_train5))\n",
    "print('\\nTest set score:', lr.score(X_test5, y_test5))"
   ]
  },
  {
   "cell_type": "code",
   "execution_count": null,
   "metadata": {},
   "outputs": [],
   "source": []
  }
 ],
 "metadata": {
  "kernelspec": {
   "display_name": "Python 3",
   "language": "python",
   "name": "python3"
  },
  "language_info": {
   "codemirror_mode": {
    "name": "ipython",
    "version": 3
   },
   "file_extension": ".py",
   "mimetype": "text/x-python",
   "name": "python",
   "nbconvert_exporter": "python",
   "pygments_lexer": "ipython3",
   "version": "3.7.0"
  }
 },
 "nbformat": 4,
 "nbformat_minor": 2
}
